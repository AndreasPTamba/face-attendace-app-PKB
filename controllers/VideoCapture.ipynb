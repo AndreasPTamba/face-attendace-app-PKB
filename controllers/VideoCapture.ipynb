{
 "cells": [
  {
   "cell_type": "code",
   "execution_count": 16,
   "metadata": {},
   "outputs": [
    {
     "name": "stdout",
     "output_type": "stream",
     "text": [
      "../dataset/Bakti\\Bakti0.png written!\n",
      "../dataset/Bakti\\Bakti1.png written!\n",
      "../dataset/Bakti\\Bakti2.png written!\n",
      "../dataset/Bakti\\Bakti3.png written!\n",
      "../dataset/Bakti\\Bakti4.png written!\n",
      "../dataset/Bakti\\Bakti5.png written!\n",
      "../dataset/Bakti\\Bakti6.png written!\n",
      "../dataset/Bakti\\Bakti7.png written!\n",
      "../dataset/Bakti\\Bakti8.png written!\n",
      "../dataset/Bakti\\Bakti9.png written!\n",
      "../dataset/Bakti\\Bakti10.png written!\n",
      "../dataset/Bakti\\Bakti11.png written!\n",
      "../dataset/Bakti\\Bakti12.png written!\n",
      "../dataset/Bakti\\Bakti13.png written!\n",
      "../dataset/Bakti\\Bakti14.png written!\n",
      "../dataset/Bakti\\Bakti15.png written!\n",
      "../dataset/Bakti\\Bakti16.png written!\n",
      "../dataset/Bakti\\Bakti17.png written!\n",
      "../dataset/Bakti\\Bakti18.png written!\n",
      "../dataset/Bakti\\Bakti19.png written!\n"
     ]
    }
   ],
   "source": [
    "import cv2\n",
    "import os\n",
    "\n",
    "# Tentukan directory tujuan\n",
    "Name = input(\"Enter your name: \")\n",
    "save_dir = \"../dataset/{}\".format(Name)\n",
    "\n",
    "# Pastikan directory ada atau buat jika belum ada\n",
    "if not os.path.exists(save_dir):\n",
    "    os.makedirs(save_dir)\n",
    "\n",
    "cam = cv2.VideoCapture(0)\n",
    "cv2.namedWindow(\"test\")\n",
    "img_counter = 0\n",
    "\n",
    "while img_counter < 20:\n",
    "    ret, frame = cam.read()\n",
    "    if not ret:\n",
    "        print(\"failed to grab frame\")\n",
    "        break\n",
    "    cv2.imshow(\"test\", frame)\n",
    "\n",
    "    k = cv2.waitKey(1)\n",
    "    if k % 256 == 32:\n",
    "        # SPACE pressed\n",
    "        img_name = \"{}{}.png\".format(Name, img_counter)\n",
    "        img_path = os.path.join(save_dir, img_name)\n",
    "        cv2.imwrite(img_path, frame)\n",
    "        print(\"{} written!\".format(img_path))\n",
    "        img_counter += 1\n",
    "\n",
    "cam.release()\n",
    "cv2.destroyAllWindows()"
   ]
  }
 ],
 "metadata": {
  "kernelspec": {
   "display_name": "myenv",
   "language": "python",
   "name": "python3"
  },
  "language_info": {
   "codemirror_mode": {
    "name": "ipython",
    "version": 3
   },
   "file_extension": ".py",
   "mimetype": "text/x-python",
   "name": "python",
   "nbconvert_exporter": "python",
   "pygments_lexer": "ipython3",
   "version": "3.12.2"
  }
 },
 "nbformat": 4,
 "nbformat_minor": 2
}
